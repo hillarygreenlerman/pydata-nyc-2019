{
 "cells": [
  {
   "cell_type": "markdown",
   "metadata": {},
   "source": [
    "# How to Prove You’re Right: A/B Testing with SciPy\n",
    "### by Hillary Green-Lerman, Lead Data Scientist, Looker\n",
    "### Michoel Snow, Senior Data Scientist, Bark\n",
    "### PyData NYC 2019"
   ]
  },
  {
   "cell_type": "markdown",
   "metadata": {},
   "source": [
    "## What’s an A/B Test and why do I need it?"
   ]
  },
  {
   "cell_type": "markdown",
   "metadata": {},
   "source": [
    "How might Amazon use an A/B Test?\n",
    "- Test different price points for products\n",
    "- Test different website designs\n",
    "- Test different algorithms for displaying search results\n",
    "- Test different algorithms for recommending additional items to purchase\n"
   ]
  },
  {
   "cell_type": "markdown",
   "metadata": {},
   "source": [
    "How might Netflix use an A/B Test?\n",
    "- Test different algorithms for recommending what to watch\n",
    "- Test different website designs"
   ]
  },
  {
   "cell_type": "markdown",
   "metadata": {},
   "source": [
    "How might _you_ use an A/B Test?"
   ]
  },
  {
   "cell_type": "markdown",
   "metadata": {},
   "source": [
    "## What do I need to run an A/B Test?"
   ]
  },
  {
   "cell_type": "markdown",
   "metadata": {},
   "source": [
    "Let's start by importing `pandas` (which we'll be using to load our datasets for this tutorial) and `matplotlib` (which we'll be using for graphing)."
   ]
  },
  {
   "cell_type": "code",
   "execution_count": 25,
   "metadata": {},
   "outputs": [],
   "source": [
    "import pandas as pd\n",
    "\n",
    "from matplotlib import pyplot as plt"
   ]
  },
  {
   "cell_type": "markdown",
   "metadata": {},
   "source": [
    "### Example 1\n",
    "\n",
    "You've sent out a newsletter to your users with an exciting new offer.  You're not sure what the best subject line is to get recipients to open the email and click through to your website, so you're running an A/B Test.  Your data is in the CSV file `ab_test_dataset_1.csv`.\n",
    "\n",
    "- What kind of framework might you be using to run this test?\n",
    "\n",
    "- What are some good metrics to track?\n",
    "\n",
    "- Is anything missing from this dataset?"
   ]
  },
  {
   "cell_type": "code",
   "execution_count": 13,
   "metadata": {},
   "outputs": [
    {
     "data": {
      "text/html": [
       "<div>\n",
       "<style scoped>\n",
       "    .dataframe tbody tr th:only-of-type {\n",
       "        vertical-align: middle;\n",
       "    }\n",
       "\n",
       "    .dataframe tbody tr th {\n",
       "        vertical-align: top;\n",
       "    }\n",
       "\n",
       "    .dataframe thead th {\n",
       "        text-align: right;\n",
       "    }\n",
       "</style>\n",
       "<table border=\"1\" class=\"dataframe\">\n",
       "  <thead>\n",
       "    <tr style=\"text-align: right;\">\n",
       "      <th></th>\n",
       "      <th>id</th>\n",
       "      <th>first_name</th>\n",
       "      <th>last_name</th>\n",
       "      <th>email</th>\n",
       "      <th>gender</th>\n",
       "      <th>date</th>\n",
       "      <th>timestamp</th>\n",
       "      <th>ab_group</th>\n",
       "    </tr>\n",
       "  </thead>\n",
       "  <tbody>\n",
       "    <tr>\n",
       "      <th>0</th>\n",
       "      <td>1</td>\n",
       "      <td>Brenn</td>\n",
       "      <td>Theze</td>\n",
       "      <td>btheze0@list-manage.com</td>\n",
       "      <td>Female</td>\n",
       "      <td>2019-07-09</td>\n",
       "      <td>11:23:49</td>\n",
       "      <td>A</td>\n",
       "    </tr>\n",
       "    <tr>\n",
       "      <th>1</th>\n",
       "      <td>2</td>\n",
       "      <td>Ludovico</td>\n",
       "      <td>Dinnage</td>\n",
       "      <td>ldinnage1@networkadvertising.org</td>\n",
       "      <td>Male</td>\n",
       "      <td>2019-05-27</td>\n",
       "      <td>8:56:10</td>\n",
       "      <td>A</td>\n",
       "    </tr>\n",
       "    <tr>\n",
       "      <th>2</th>\n",
       "      <td>3</td>\n",
       "      <td>Sherwood</td>\n",
       "      <td>Sitlinton</td>\n",
       "      <td>ssitlinton2@pagesperso-orange.fr</td>\n",
       "      <td>NaN</td>\n",
       "      <td>2019-02-28</td>\n",
       "      <td>8:53:02</td>\n",
       "      <td>B</td>\n",
       "    </tr>\n",
       "    <tr>\n",
       "      <th>3</th>\n",
       "      <td>4</td>\n",
       "      <td>Ariella</td>\n",
       "      <td>McAllan</td>\n",
       "      <td>a.mcallan@foobar.co.uk</td>\n",
       "      <td>Female</td>\n",
       "      <td>2019-07-14</td>\n",
       "      <td>23:19:36</td>\n",
       "      <td>B</td>\n",
       "    </tr>\n",
       "    <tr>\n",
       "      <th>4</th>\n",
       "      <td>5</td>\n",
       "      <td>Jeno</td>\n",
       "      <td>Methringham</td>\n",
       "      <td>jmethringham4@geocities.jp</td>\n",
       "      <td>Male</td>\n",
       "      <td>2019-08-15</td>\n",
       "      <td>10:29:18</td>\n",
       "      <td>A</td>\n",
       "    </tr>\n",
       "  </tbody>\n",
       "</table>\n",
       "</div>"
      ],
      "text/plain": [
       "   id first_name    last_name                             email  gender  \\\n",
       "0   1      Brenn        Theze           btheze0@list-manage.com  Female   \n",
       "1   2   Ludovico      Dinnage  ldinnage1@networkadvertising.org    Male   \n",
       "2   3   Sherwood    Sitlinton  ssitlinton2@pagesperso-orange.fr     NaN   \n",
       "3   4    Ariella      McAllan            a.mcallan@foobar.co.uk  Female   \n",
       "4   5       Jeno  Methringham        jmethringham4@geocities.jp    Male   \n",
       "\n",
       "         date timestamp ab_group  \n",
       "0  2019-07-09  11:23:49        A  \n",
       "1  2019-05-27   8:56:10        A  \n",
       "2  2019-02-28   8:53:02        B  \n",
       "3  2019-07-14  23:19:36        B  \n",
       "4  2019-08-15  10:29:18        A  "
      ]
     },
     "execution_count": 13,
     "metadata": {},
     "output_type": "execute_result"
    }
   ],
   "source": [
    "df1 = pd.read_csv('ab_test_dataset_1.csv')\n",
    "\n",
    "df1.head()\n",
    "\n",
    "# The dataset is missing whether or not the link was actually clicked"
   ]
  },
  {
   "cell_type": "markdown",
   "metadata": {},
   "source": [
    "### Example 2\n",
    "You've just launched a new feature for your website.  You want to know what pop-up message is best to prompt people to use this feature, so you're running an A/B Test.  Your data is in the CSV file `ab_test_dataset_2.csv`.\n",
    "\n",
    "- What kind of framework might you be using to run this test?\n",
    "\n",
    "- What are some good metrics to track?\n",
    "\n",
    "- Is anything missing from this dataset?"
   ]
  },
  {
   "cell_type": "code",
   "execution_count": 14,
   "metadata": {},
   "outputs": [
    {
     "data": {
      "text/html": [
       "<div>\n",
       "<style scoped>\n",
       "    .dataframe tbody tr th:only-of-type {\n",
       "        vertical-align: middle;\n",
       "    }\n",
       "\n",
       "    .dataframe tbody tr th {\n",
       "        vertical-align: top;\n",
       "    }\n",
       "\n",
       "    .dataframe thead th {\n",
       "        text-align: right;\n",
       "    }\n",
       "</style>\n",
       "<table border=\"1\" class=\"dataframe\">\n",
       "  <thead>\n",
       "    <tr style=\"text-align: right;\">\n",
       "      <th></th>\n",
       "      <th>id</th>\n",
       "      <th>username</th>\n",
       "      <th>city</th>\n",
       "      <th>date</th>\n",
       "      <th>timestamp</th>\n",
       "      <th>test_ab</th>\n",
       "      <th>uses_feature</th>\n",
       "    </tr>\n",
       "  </thead>\n",
       "  <tbody>\n",
       "    <tr>\n",
       "      <th>0</th>\n",
       "      <td>1</td>\n",
       "      <td>dbernasek0</td>\n",
       "      <td>Ganquan</td>\n",
       "      <td>2019-03-29</td>\n",
       "      <td>9:03:24</td>\n",
       "      <td>A</td>\n",
       "      <td>True</td>\n",
       "    </tr>\n",
       "    <tr>\n",
       "      <th>1</th>\n",
       "      <td>2</td>\n",
       "      <td>gbarson1</td>\n",
       "      <td>Qandala</td>\n",
       "      <td>2019-06-28</td>\n",
       "      <td>20:18:43</td>\n",
       "      <td>A</td>\n",
       "      <td>True</td>\n",
       "    </tr>\n",
       "    <tr>\n",
       "      <th>2</th>\n",
       "      <td>3</td>\n",
       "      <td>dayree2</td>\n",
       "      <td>Espinal</td>\n",
       "      <td>2019-09-07</td>\n",
       "      <td>10:07:15</td>\n",
       "      <td>A</td>\n",
       "      <td>True</td>\n",
       "    </tr>\n",
       "    <tr>\n",
       "      <th>3</th>\n",
       "      <td>4</td>\n",
       "      <td>fitzcak3</td>\n",
       "      <td>Jocón</td>\n",
       "      <td>2019-04-17</td>\n",
       "      <td>20:43:42</td>\n",
       "      <td>A</td>\n",
       "      <td>True</td>\n",
       "    </tr>\n",
       "    <tr>\n",
       "      <th>4</th>\n",
       "      <td>5</td>\n",
       "      <td>rkelcey4</td>\n",
       "      <td>Kímolos</td>\n",
       "      <td>2019-10-08</td>\n",
       "      <td>15:08:38</td>\n",
       "      <td>A</td>\n",
       "      <td>False</td>\n",
       "    </tr>\n",
       "  </tbody>\n",
       "</table>\n",
       "</div>"
      ],
      "text/plain": [
       "   id    username     city        date timestamp test_ab  uses_feature\n",
       "0   1  dbernasek0  Ganquan  2019-03-29   9:03:24       A          True\n",
       "1   2    gbarson1  Qandala  2019-06-28  20:18:43       A          True\n",
       "2   3     dayree2  Espinal  2019-09-07  10:07:15       A          True\n",
       "3   4    fitzcak3    Jocón  2019-04-17  20:43:42       A          True\n",
       "4   5    rkelcey4  Kímolos  2019-10-08  15:08:38       A         False"
      ]
     },
     "execution_count": 14,
     "metadata": {},
     "output_type": "execute_result"
    }
   ],
   "source": [
    "df2 = pd.read_csv('ab_test_dataset_2.csv')\n",
    "\n",
    "df2.head()"
   ]
  },
  {
   "cell_type": "code",
   "execution_count": 15,
   "metadata": {},
   "outputs": [
    {
     "data": {
      "text/plain": [
       "test_ab\n",
       "A    1000\n",
       "Name: id, dtype: int64"
      ]
     },
     "execution_count": 15,
     "metadata": {},
     "output_type": "execute_result"
    }
   ],
   "source": [
    "df2.groupby('test_ab').id.count()"
   ]
  },
  {
   "cell_type": "markdown",
   "metadata": {},
   "source": [
    "It looks like we forgot to include the B Variant!"
   ]
  },
  {
   "cell_type": "markdown",
   "metadata": {},
   "source": [
    "### Example 3\n",
    "You're considering changing the price of your product.  In order to test how price point affects purchase rates, you randomly send out different discount codes to users for either 5%, 10%, or 20% off of your base price.  Your data is in the CSV file `ab_test_dataset_3.csv`.\n",
    "\n",
    "- What kind of framework might you be using to run this test?\n",
    "\n",
    "- What are some good metrics to track?\n",
    "\n",
    "- Is anything missing from this dataset?\n",
    "\n",
    "- **Bonus 1:** Why might discount codes not give you a good sense of purchase rates for different price points?\n",
    "\n",
    "- **Bonus 2:** If the purchase rate at a 5% discount is 0.02 and the purchase rate at a 20% discount is 0.021, should you sent your price point to 20% off of your current base price? *(assume that the difference is significant)*"
   ]
  },
  {
   "cell_type": "code",
   "execution_count": 16,
   "metadata": {},
   "outputs": [
    {
     "data": {
      "text/html": [
       "<div>\n",
       "<style scoped>\n",
       "    .dataframe tbody tr th:only-of-type {\n",
       "        vertical-align: middle;\n",
       "    }\n",
       "\n",
       "    .dataframe tbody tr th {\n",
       "        vertical-align: top;\n",
       "    }\n",
       "\n",
       "    .dataframe thead th {\n",
       "        text-align: right;\n",
       "    }\n",
       "</style>\n",
       "<table border=\"1\" class=\"dataframe\">\n",
       "  <thead>\n",
       "    <tr style=\"text-align: right;\">\n",
       "      <th></th>\n",
       "      <th>ip_address</th>\n",
       "      <th>date</th>\n",
       "      <th>timestamp</th>\n",
       "      <th>discount_amount</th>\n",
       "      <th>is_purchase</th>\n",
       "    </tr>\n",
       "  </thead>\n",
       "  <tbody>\n",
       "    <tr>\n",
       "      <th>0</th>\n",
       "      <td>58.171.165.83</td>\n",
       "      <td>2019-09-08</td>\n",
       "      <td>16:19:16</td>\n",
       "      <td>20%</td>\n",
       "      <td>False</td>\n",
       "    </tr>\n",
       "    <tr>\n",
       "      <th>1</th>\n",
       "      <td>241.202.36.52</td>\n",
       "      <td>2019-07-10</td>\n",
       "      <td>4:09:29</td>\n",
       "      <td>10%</td>\n",
       "      <td>True</td>\n",
       "    </tr>\n",
       "    <tr>\n",
       "      <th>2</th>\n",
       "      <td>231.85.247.31</td>\n",
       "      <td>2019-08-21</td>\n",
       "      <td>0:45:36</td>\n",
       "      <td>10%</td>\n",
       "      <td>False</td>\n",
       "    </tr>\n",
       "    <tr>\n",
       "      <th>3</th>\n",
       "      <td>70.79.47.158</td>\n",
       "      <td>2019-08-30</td>\n",
       "      <td>3:28:50</td>\n",
       "      <td>20%</td>\n",
       "      <td>False</td>\n",
       "    </tr>\n",
       "    <tr>\n",
       "      <th>4</th>\n",
       "      <td>107.239.177.198</td>\n",
       "      <td>2019-01-26</td>\n",
       "      <td>14:37:03</td>\n",
       "      <td>20%</td>\n",
       "      <td>True</td>\n",
       "    </tr>\n",
       "  </tbody>\n",
       "</table>\n",
       "</div>"
      ],
      "text/plain": [
       "        ip_address        date timestamp discount_amount  is_purchase\n",
       "0    58.171.165.83  2019-09-08  16:19:16             20%        False\n",
       "1    241.202.36.52  2019-07-10   4:09:29             10%         True\n",
       "2    231.85.247.31  2019-08-21   0:45:36             10%        False\n",
       "3     70.79.47.158  2019-08-30   3:28:50             20%        False\n",
       "4  107.239.177.198  2019-01-26  14:37:03             20%         True"
      ]
     },
     "execution_count": 16,
     "metadata": {},
     "output_type": "execute_result"
    }
   ],
   "source": [
    "df3 = pd.read_csv('ab_test_dataset_3.csv')\n",
    "\n",
    "df3.head()"
   ]
  },
  {
   "cell_type": "code",
   "execution_count": 19,
   "metadata": {},
   "outputs": [
    {
     "data": {
      "text/html": [
       "<div>\n",
       "<style scoped>\n",
       "    .dataframe tbody tr th:only-of-type {\n",
       "        vertical-align: middle;\n",
       "    }\n",
       "\n",
       "    .dataframe tbody tr th {\n",
       "        vertical-align: top;\n",
       "    }\n",
       "\n",
       "    .dataframe thead th {\n",
       "        text-align: right;\n",
       "    }\n",
       "</style>\n",
       "<table border=\"1\" class=\"dataframe\">\n",
       "  <thead>\n",
       "    <tr style=\"text-align: right;\">\n",
       "      <th></th>\n",
       "      <th>ip_address</th>\n",
       "      <th>discount_amount</th>\n",
       "    </tr>\n",
       "  </thead>\n",
       "  <tbody>\n",
       "    <tr>\n",
       "      <th>0</th>\n",
       "      <td>0.97.255.219</td>\n",
       "      <td>2</td>\n",
       "    </tr>\n",
       "    <tr>\n",
       "      <th>1</th>\n",
       "      <td>1.149.48.104</td>\n",
       "      <td>2</td>\n",
       "    </tr>\n",
       "    <tr>\n",
       "      <th>2</th>\n",
       "      <td>10.148.89.73</td>\n",
       "      <td>1</td>\n",
       "    </tr>\n",
       "    <tr>\n",
       "      <th>3</th>\n",
       "      <td>100.65.221.215</td>\n",
       "      <td>2</td>\n",
       "    </tr>\n",
       "    <tr>\n",
       "      <th>4</th>\n",
       "      <td>101.186.199.43</td>\n",
       "      <td>2</td>\n",
       "    </tr>\n",
       "  </tbody>\n",
       "</table>\n",
       "</div>"
      ],
      "text/plain": [
       "       ip_address  discount_amount\n",
       "0    0.97.255.219                2\n",
       "1    1.149.48.104                2\n",
       "2    10.148.89.73                1\n",
       "3  100.65.221.215                2\n",
       "4  101.186.199.43                2"
      ]
     },
     "execution_count": 19,
     "metadata": {},
     "output_type": "execute_result"
    }
   ],
   "source": [
    "df3.groupby('ip_address').discount_amount.nunique()\\\n",
    "    .reset_index().head()"
   ]
  },
  {
   "cell_type": "markdown",
   "metadata": {},
   "source": [
    "It looks like the same IP Address can see multiple discount ammounts.  This could upset customers if not conducted carefully!\n",
    "\n",
    "#### Bonus 1: Why might discount codes not give you a good sense of purchase rates for different price points?\n",
    "The greater the discount amount, the more that the customer feels that she got a \"good deal\".  If the price was just lower without being told that there was a discount, customers might not feel as \"good\" about it.\n",
    "\n",
    "\n",
    "#### Bonus 2: If the purchase rate at a 5% discount is 0.02 and the purchase rate at a 20% discount is 0.021, should you sent your price point to 20% off of your current base price? *(assume that the difference is significant)*\n",
    "In this case, you actually care about the total amount of money, not the purchase rate.  Imagine that 1000 customers visit your website and your product costs $100."
   ]
  },
  {
   "cell_type": "code",
   "execution_count": 21,
   "metadata": {},
   "outputs": [
    {
     "data": {
      "text/plain": [
       "1900.0"
      ]
     },
     "execution_count": 21,
     "metadata": {},
     "output_type": "execute_result"
    }
   ],
   "source": [
    "# For a 5% discount the product costs $95 and 2% of the 1000 customers will buy it\n",
    "profit_5percent_discount = 1000 * 0.02 * 95\n",
    "profit_5percent_discount"
   ]
  },
  {
   "cell_type": "code",
   "execution_count": 22,
   "metadata": {},
   "outputs": [
    {
     "data": {
      "text/plain": [
       "1680.0"
      ]
     },
     "execution_count": 22,
     "metadata": {},
     "output_type": "execute_result"
    }
   ],
   "source": [
    "# For a 20% discount the product costs $80 and 2.1% of the 1000 customers will buy it\n",
    "profit_20percent_discount = 1000 * 0.021 * 80\n",
    "profit_20percent_discount"
   ]
  },
  {
   "cell_type": "markdown",
   "metadata": {},
   "source": [
    "Even though more people purchased at a 20% discount, you made less money, so you probably don't want to go with that variant."
   ]
  },
  {
   "cell_type": "markdown",
   "metadata": {},
   "source": [
    "## How do I analyze an A/B Test?"
   ]
  },
  {
   "cell_type": "markdown",
   "metadata": {},
   "source": [
    "### Example 4\n",
    "Let's prove to ourselves that A/B Test results can be deceiving!\n",
    "\n",
    "We're going to generate some results drawn from real distributions and see how effect size and sample size affect our ability to get reliable results.\n",
    "\n",
    "We'll use a seperate `np.random.binomial()` to generate the samples for each variant.  This function takes as arguments:\n",
    "- The number of samples in each experiment (i.e., how many people would see a given variant of your A/B Test)\n",
    "- The probability of a success (i.e., the click-through rate for one of your variants)\n",
    "- The number of experiments to run (we choose a large number so that we can get a reliable estimate)"
   ]
  },
  {
   "cell_type": "code",
   "execution_count": 23,
   "metadata": {},
   "outputs": [],
   "source": [
    "import numpy as np\n",
    "\n",
    "def calc_percent_correct(sample_size, ctr_A, ctr_B, number_experiments):\n",
    "    '''\n",
    "    This function performs a set of mock A/B Tests for two click through rates\n",
    "    and a given sample size and reports the fraction of experiments where the\n",
    "    directionality of the result is correct.\n",
    "    \n",
    "    You can use this function to see how often we would actually\n",
    "    observe the \"correct\" results for given conditions.\n",
    "    '''\n",
    "    # Create experiments\n",
    "    experimental_ctr_A = np.random.binomial(sample_size, ctr_A, size=number_experiments) / sample_size\n",
    "    experimental_ctr_B = np.random.binomial(sample_size, ctr_B, size=number_experiments) / sample_size\n",
    "\n",
    "    # Calculate the fraction of experiments with \"correct\" results\n",
    "    if ctr_A < ctr_B:\n",
    "        return np.mean(experimental_ctr_A < experimental_ctr_B)\n",
    "    elif ctr_A > str_b:\n",
    "        return np.mean(experimental_ctr_A > experimental_ctr_B)\n",
    "    else:\n",
    "        return np.mean(experimental_ctr_A == experimental_ctr_B)\n"
   ]
  },
  {
   "cell_type": "markdown",
   "metadata": {},
   "source": [
    "Use the function with different values of `ctr_A`, `ctr_B`, and `sample_size`.  How do these affect the fraction of experiments with correct directionality?"
   ]
  },
  {
   "cell_type": "code",
   "execution_count": 24,
   "metadata": {},
   "outputs": [
    {
     "name": "stdout",
     "output_type": "stream",
     "text": [
      "Click through rates are directionally correct in 0.57 fraction of experiments.\n"
     ]
    }
   ],
   "source": [
    "# The parameters for our experiment\n",
    "sample_size = 100\n",
    "ctr_A = 0.05\n",
    "ctr_B = 0.06\n",
    "number_experiments = 10000\n",
    "\n",
    "# How often is the CTR for B greater than for A?\n",
    "fraction_correct = calc_percent_correct(sample_size, ctr_A, ctr_B, number_experiments)\n",
    "print(\"Click through rates are directionally correct in %0.2f fraction of experiments.\" %fraction_correct)"
   ]
  },
  {
   "cell_type": "markdown",
   "metadata": {},
   "source": [
    "Let's create a plot of how sample size effects the fraction of experiments with the correct results."
   ]
  },
  {
   "cell_type": "code",
   "execution_count": 7,
   "metadata": {},
   "outputs": [
    {
     "data": {
      "image/png": "[encoded data removed]",
      "text/plain": [
       "<Figure size 432x288 with 1 Axes>"
      ]
     },
     "metadata": {
      "needs_background": "light"
     },
     "output_type": "display_data"
    }
   ],
   "source": [
    "ctr_A = 0.05\n",
    "ctr_B = 0.06\n",
    "number_experiments = 10000\n",
    "\n",
    "sample_sizes = [100, 500, 1000, 5000, 10000]\n",
    "fraction_correct = [calc_percent_correct(sample_size, ctr_A, ctr_B, number_experiments)\n",
    "                   for sample_size in sample_sizes]\n",
    "\n",
    "plt.plot(sample_sizes, fraction_correct, '-o')\n",
    "plt.xlabel('Sample Size')\n",
    "plt.ylabel('Percent of Experiments with Correct Directionality')\n",
    "plt.axis([-10, 10100, 0, 1.05])\n",
    "plt.show()"
   ]
  },
  {
   "cell_type": "markdown",
   "metadata": {},
   "source": [
    "Now let's see how the difference between the two click through rates affects the fraction of experiments with correct results."
   ]
  },
  {
   "cell_type": "code",
   "execution_count": 8,
   "metadata": {},
   "outputs": [
    {
     "data": {
      "image/png": "[encoded data removed]",
      "text/plain": [
       "<Figure size 432x288 with 1 Axes>"
      ]
     },
     "metadata": {
      "needs_background": "light"
     },
     "output_type": "display_data"
    }
   ],
   "source": [
    "ctr_A = 0.05\n",
    "sample_size = 1000\n",
    "number_experiments = 10000\n",
    "\n",
    "ctr_B_list = [0.051, 0.055, 0.06, 0.08, 0.10]\n",
    "fraction_correct = [calc_percent_correct(sample_size, ctr_A, ctr_B, number_experiments)\n",
    "                   for ctr_B in ctr_B_list]\n",
    "\n",
    "plt.plot(ctr_B_list, fraction_correct, '-o')\n",
    "plt.xlabel('CTR for B Variant')\n",
    "plt.ylabel('Percent of Experiments with Correct Directionality')\n",
    "plt.axis([0.05, 0.101, 0, 1.05])\n",
    "plt.show()"
   ]
  },
  {
   "cell_type": "markdown",
   "metadata": {},
   "source": [
    "What if we have much higher click through rates, but always keep the same **relative** difference (10% lift)?"
   ]
  },
  {
   "cell_type": "code",
   "execution_count": 9,
   "metadata": {},
   "outputs": [
    {
     "data": {
      "image/png": "[encoded data removed]",
      "text/plain": [
       "<Figure size 1080x432 with 1 Axes>"
      ]
     },
     "metadata": {
      "needs_background": "light"
     },
     "output_type": "display_data"
    }
   ],
   "source": [
    "sample_size = 500\n",
    "number_experiments = 10000\n",
    "\n",
    "ctr_A_list = [0.05, 0.10, 0.25, 0.5, 0.75, 0.9]\n",
    "fraction_correct = [calc_percent_correct(sample_size, ctr_A, 1.1* ctr_A, number_experiments)\n",
    "                   for ctr_A in ctr_A_list]\n",
    "\n",
    "plt.figure(figsize=(15, 6))\n",
    "ax = plt.subplot()\n",
    "plt.plot(ctr_A_list, fraction_correct, '-o')\n",
    "ax.set_xticks(ctr_A_list)\n",
    "ax.set_xticklabels(['%0.2f/\\n%0.2f' %(ctr_A, 1.1 * ctr_A) for ctr_A in ctr_A_list])\n",
    "plt.xlabel('CTR for A/B Variants')\n",
    "plt.ylabel('Percent of Experiments with Correct Directionality')\n",
    "plt.axis([0.0, 1, 0, 1.05])\n",
    "plt.show()"
   ]
  },
  {
   "cell_type": "markdown",
   "metadata": {},
   "source": [
    "### Example 5\n",
    "\n",
    "Let's analyze the results of a simple A/B test of two different ads.  We create a **contingency table** with the number of users who fall into each category.\n",
    "\n",
    "<table>\n",
    "    <tr>\n",
    "        <td></td>\n",
    "        <th>A</th>\n",
    "        <th>B</th>\n",
    "    </tr>\n",
    "    <tr>\n",
    "        <th>Did Not Click Ad</th>\n",
    "        <td>950</td>\n",
    "        <td>940</td>\n",
    "    </tr>\n",
    "    <tr>\n",
    "        <th>Clicked Ad</th>\n",
    "        <td>50</td>\n",
    "        <td>60</td>\n",
    "    </tr>    \n",
    "</table>"
   ]
  },
  {
   "cell_type": "code",
   "execution_count": 10,
   "metadata": {},
   "outputs": [
    {
     "name": "stdout",
     "output_type": "stream",
     "text": [
      "P-value: 0.3267\n"
     ]
    }
   ],
   "source": [
    "from scipy.stats import chi2_contingency\n",
    "\n",
    "contingency = np.array([\n",
    "    [950, 940],\n",
    "    [50,  60]\n",
    "])\n",
    "\n",
    "g, pvalue, dof, expctd = chi2_contingency(contingency, correction=False)\n",
    "\n",
    "print('P-value: %0.4f' %pvalue)"
   ]
  },
  {
   "cell_type": "markdown",
   "metadata": {},
   "source": [
    "What if the proportions were the same but the sample size was 5 times as large?"
   ]
  },
  {
   "cell_type": "code",
   "execution_count": 11,
   "metadata": {},
   "outputs": [
    {
     "name": "stdout",
     "output_type": "stream",
     "text": [
      "P-value: 0.0283\n"
     ]
    }
   ],
   "source": [
    "contingency = 5 * np.array([\n",
    "    [950, 940],\n",
    "    [50,  60]\n",
    "])\n",
    "\n",
    "g, pvalue, dof, expctd = chi2_contingency(contingency, correction=False)\n",
    "\n",
    "print('P-value: %0.4f' %pvalue)"
   ]
  },
  {
   "cell_type": "markdown",
   "metadata": {},
   "source": [
    "It's worth noting that when we only have two variants, we could also use a Proportion Z-Test and get the same answers"
   ]
  },
  {
   "cell_type": "code",
   "execution_count": 12,
   "metadata": {},
   "outputs": [
    {
     "name": "stdout",
     "output_type": "stream",
     "text": [
      "P-value: 0.0283\n"
     ]
    }
   ],
   "source": [
    "from statsmodels.stats.proportion import proportions_ztest\n",
    "\n",
    "contingency = 5 * np.array([\n",
    "    [950, 940],\n",
    "    [50,  60]\n",
    "])\n",
    "\n",
    "zscore, pvalue = proportions_ztest(contingency[1, :], contingency.sum(axis=0), alternative='two-sided')\n",
    "print('P-value: %0.4f' %pvalue)"
   ]
  }
 ],
 "metadata": {
  "kernelspec": {
   "display_name": "Python 3",
   "language": "python",
   "name": "python3"
  },
  "language_info": {
   "codemirror_mode": {
    "name": "ipython",
    "version": 3
   },
   "file_extension": ".py",
   "mimetype": "text/x-python",
   "name": "python",
   "nbconvert_exporter": "python",
   "pygments_lexer": "ipython3",
   "version": "3.7.3"
  }
 },
 "nbformat": 4,
 "nbformat_minor": 2
}
