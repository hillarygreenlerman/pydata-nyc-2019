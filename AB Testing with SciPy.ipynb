{
 "cells": [
  {
   "cell_type": "markdown",
   "metadata": {},
   "source": [
    "# How to Prove You’re Right: A/B Testing with SciPy\n",
    "### by Hillary Green-Lerman, Lead Data Scientist, Looker\n",
    "### Michoel Snow, Senior Data Scientist, Bark\n",
    "### PyData NYC 2019"
   ]
  },
  {
   "cell_type": "markdown",
   "metadata": {},
   "source": [
    "## What’s an A/B Test and why do I need it?"
   ]
  },
  {
   "cell_type": "markdown",
   "metadata": {},
   "source": [
    "How might Amazon use an A/B Test?"
   ]
  },
  {
   "cell_type": "markdown",
   "metadata": {},
   "source": [
    "How might Netflix use an A/B Test?"
   ]
  },
  {
   "cell_type": "markdown",
   "metadata": {},
   "source": [
    "How might _you_ use an A/B Test?"
   ]
  },
  {
   "cell_type": "markdown",
   "metadata": {},
   "source": [
    "## What do I need to run an A/B Test?"
   ]
  },
  {
   "cell_type": "markdown",
   "metadata": {},
   "source": [
    "Let's start by importing `pandas` (which we'll be using to load our datasets for this tutorial) and `matplotlib` (which we'll be using for graphing)."
   ]
  },
  {
   "cell_type": "code",
   "execution_count": null,
   "metadata": {},
   "outputs": [],
   "source": [
    "import pandas as pd\n",
    "\n",
    "from matplotlib import pyplot as plt"
   ]
  },
  {
   "cell_type": "markdown",
   "metadata": {},
   "source": [
    "### Example 1\n",
    "\n",
    "You've sent out a newsletter to your users with an exciting new offer.  You're not sure what the best subject line is to get recipients to open the email and click through to your website, so you're running an A/B Test.  Your data is in the CSV file `ab_test_dataset_1.csv`.\n",
    "\n",
    "- What kind of framework might you be using to run this test?\n",
    "\n",
    "- What are some good metrics to track?\n",
    "\n",
    "- Is anything missing from this dataset?"
   ]
  },
  {
   "cell_type": "code",
   "execution_count": null,
   "metadata": {},
   "outputs": [],
   "source": [
    "df1 = pd.read_csv('ab_test_dataset_1.csv')"
   ]
  },
  {
   "cell_type": "markdown",
   "metadata": {},
   "source": [
    "### Example 2\n",
    "You've just launched a new feature for your website.  You want to know what pop-up message is best to prompt people to use this feature, so you're running an A/B Test.  Your data is in the CSV file `ab_test_dataset_2.csv`.\n",
    "\n",
    "- What kind of framework might you be using to run this test?\n",
    "\n",
    "- What are some good metrics to track?\n",
    "\n",
    "- Is anything missing from this dataset?"
   ]
  },
  {
   "cell_type": "code",
   "execution_count": null,
   "metadata": {},
   "outputs": [],
   "source": [
    "df2 = pd.read_csv('ab_test_dataset_2.csv')"
   ]
  },
  {
   "cell_type": "markdown",
   "metadata": {},
   "source": [
    "### Example 3\n",
    "You're considering changing the price of your product.  In order to test how price point affects purchase rates, you randomly send out different discount codes to users for either 5%, 10%, or 20% off of your base price.  Your data is in the CSV file `ab_test_dataset_3.csv`.\n",
    "\n",
    "- What kind of framework might you be using to run this test?\n",
    "\n",
    "- What are some good metrics to track?\n",
    "\n",
    "- Is anything missing from this dataset?\n",
    "\n",
    "- **Bonus 1:** Why might discount codes not give you a good sense of purchase rates for different price points?\n",
    "\n",
    "- **Bonus 2:** If the purchase rate at a 5% discount is 0.02 and the purchase rate at a 20% discount is 0.021, should you sent your price point to 20% off of your current base price? *(assume that the difference is significant)*"
   ]
  },
  {
   "cell_type": "code",
   "execution_count": null,
   "metadata": {},
   "outputs": [],
   "source": [
    "df3 = pd.read_csv('ab_test_dataset_3.csv')"
   ]
  },
  {
   "cell_type": "markdown",
   "metadata": {},
   "source": [
    "## How do I analyze an A/B Test?"
   ]
  },
  {
   "cell_type": "markdown",
   "metadata": {},
   "source": [
    "### Example 4\n",
    "Let's prove to ourselves that A/B Test results can be deceiving!\n",
    "\n",
    "We're going to generate some results drawn from real distributions and see how effect size and sample size affect our ability to get reliable results.\n",
    "\n",
    "We'll use a seperate `np.random.binomial()` to generate the samples for each variant.  This function takes as arguments:\n",
    "- The number of samples in each experiment (i.e., how many people would see a given variant of your A/B Test)\n",
    "- The probability of a success (i.e., the click-through rate for one of your variants)\n",
    "- The number of experiments to run (we choose a large number so that we can get a reliable estimate)"
   ]
  },
  {
   "cell_type": "code",
   "execution_count": null,
   "metadata": {},
   "outputs": [],
   "source": [
    "import numpy as np\n",
    "\n",
    "def calc_percent_correct(sample_size, ctr_A, ctr_B, number_experiments):\n",
    "    '''\n",
    "    This function performs a set of mock A/B Tests for two click through rates\n",
    "    and a given sample size and reports the fraction of experiments where the\n",
    "    directionality of the result is correct.\n",
    "    \n",
    "    You can use this function to see how often we would actually\n",
    "    observe the \"correct\" results for given conditions.\n",
    "    '''\n",
    "    # Create experiments\n",
    "    experimental_ctr_A = np.random.binomial(sample_size, ctr_A, size=number_experiments) / sample_size\n",
    "    experimental_ctr_B = np.random.binomial(sample_size, ctr_B, size=number_experiments) / sample_size\n",
    "\n",
    "    # Calculate the fraction of experiments with \"correct\" results\n",
    "    if ctr_A < ctr_B:\n",
    "        return np.mean(experimental_ctr_A < experimental_ctr_B)\n",
    "    elif ctr_A > str_b:\n",
    "        return np.mean(experimental_ctr_A > experimental_ctr_B)\n",
    "    else:\n",
    "        return np.mean(experimental_ctr_A == experimental_ctr_B)\n"
   ]
  },
  {
   "cell_type": "markdown",
   "metadata": {},
   "source": [
    "Use the function with different values of `ctr_A`, `ctr_B`, and `sample_size`.  How do these affect the fraction of experiments with correct directionality?"
   ]
  },
  {
   "cell_type": "code",
   "execution_count": null,
   "metadata": {},
   "outputs": [],
   "source": [
    "# The parameters for our experiment\n",
    "sample_size = ###\n",
    "ctr_A = ###\n",
    "ctr_B = ###\n",
    "number_experiments = ###\n",
    "\n",
    "# How often is the CTR for B greater than for A?\n",
    "fraction_correct = calc_percent_correct(sample_size, ctr_A, ctr_B, number_experiments)\n",
    "print(\"Click through rates are directionally correct in %0.2f fraction of experiments.\" %fraction_correct)"
   ]
  },
  {
   "cell_type": "markdown",
   "metadata": {},
   "source": [
    "Let's create a plot of how sample size effects the fraction of experiments with the correct results."
   ]
  },
  {
   "cell_type": "code",
   "execution_count": null,
   "metadata": {},
   "outputs": [],
   "source": [
    "ctr_A = 0.05\n",
    "ctr_B = 0.06\n",
    "number_experiments = 10000\n",
    "\n",
    "sample_sizes = [\n",
    "    ###, ###, ###, ###, ###\n",
    "]\n",
    "fraction_correct = [calc_percent_correct(sample_size, ctr_A, ctr_B, number_experiments)\n",
    "                   for sample_size in sample_sizes]\n",
    "\n",
    "plt.plot(sample_sizes, fraction_correct, '-o')\n",
    "plt.xlabel('Sample Size')\n",
    "plt.ylabel('Percent of Experiments with Correct Directionality')\n",
    "plt.show()"
   ]
  },
  {
   "cell_type": "markdown",
   "metadata": {},
   "source": [
    "Now let's see how the difference between the two click through rates affects the fraction of experiments with correct results."
   ]
  },
  {
   "cell_type": "code",
   "execution_count": null,
   "metadata": {},
   "outputs": [],
   "source": [
    "ctr_A = 0.05\n",
    "sample_size = 1000\n",
    "number_experiments = 10000\n",
    "\n",
    "ctr_B_list = [\n",
    "    ###, ###, ###, ###, ###\n",
    "]\n",
    "fraction_correct = [calc_percent_correct(sample_size, ctr_A, ctr_B, number_experiments)\n",
    "                   for ctr_B in ctr_B_list]\n",
    "\n",
    "plt.plot(ctr_B_list, fraction_correct, '-o')\n",
    "plt.xlabel('CTR for B Variant')\n",
    "plt.ylabel('Percent of Experiments with Correct Directionality')\n",
    "plt.show()"
   ]
  },
  {
   "cell_type": "markdown",
   "metadata": {},
   "source": [
    "What if we have much higher click through rates, but always keep the same **relative** difference (10% lift)?"
   ]
  },
  {
   "cell_type": "code",
   "execution_count": null,
   "metadata": {},
   "outputs": [],
   "source": [
    "sample_size = 500\n",
    "number_experiments = 10000\n",
    "\n",
    "ctr_A_list = [\n",
    "    ###, ###, ###, ###, ###\n",
    "]\n",
    "fraction_correct = [calc_percent_correct(sample_size, ctr_A, 1.1* ctr_A, number_experiments)\n",
    "                   for ctr_A in ctr_A_list]\n",
    "\n",
    "plt.figure(figsize=(15, 6))\n",
    "ax = plt.subplot()\n",
    "plt.plot(ctr_A_list, fraction_correct, '-o')\n",
    "ax.set_xticks(ctr_A_list)\n",
    "ax.set_xticklabels(['%0.2f/\\n%0.2f' %(ctr_A, 1.1 * ctr_A) for ctr_A in ctr_A_list])\n",
    "plt.xlabel('CTR for A/B Variants')\n",
    "plt.ylabel('Percent of Experiments with Correct Directionality')\n",
    "plt.show()"
   ]
  },
  {
   "cell_type": "markdown",
   "metadata": {},
   "source": [
    "### Example 5\n",
    "\n",
    "Let's analyze the results of a simple A/B test of two different ads.  We create a **contingency table** with the number of users who fall into each category.\n",
    "\n",
    "<table>\n",
    "    <tr>\n",
    "        <td></td>\n",
    "        <th>A</th>\n",
    "        <th>B</th>\n",
    "    </tr>\n",
    "    <tr>\n",
    "        <th>Did Not Click Ad</th>\n",
    "        <td>950</td>\n",
    "        <td>940</td>\n",
    "    </tr>\n",
    "    <tr>\n",
    "        <th>Clicked Ad</th>\n",
    "        <td>50</td>\n",
    "        <td>60</td>\n",
    "    </tr>    \n",
    "</table>"
   ]
  },
  {
   "cell_type": "code",
   "execution_count": null,
   "metadata": {},
   "outputs": [],
   "source": [
    "from scipy.stats import chi2_contingency\n",
    "\n",
    "contingency = np.array([\n",
    "    [\n",
    "        ###, ###\n",
    "    ],\n",
    "    [\n",
    "        ###, ###\n",
    "    ]\n",
    "])\n",
    "\n",
    "g, pvalue, dof, expctd = chi2_contingency(contingency, correction=False)\n",
    "\n",
    "print('P-value: %0.4f' %pvalue)"
   ]
  },
  {
   "cell_type": "markdown",
   "metadata": {},
   "source": [
    "What if the proportions were the same but the sample size was 5 times as large?"
   ]
  },
  {
   "cell_type": "code",
   "execution_count": null,
   "metadata": {},
   "outputs": [],
   "source": [
    "contingency = np.array([\n",
    "    [\n",
    "        ###, ###\n",
    "    ],\n",
    "    [\n",
    "        ###, ###\n",
    "    ]\n",
    "])\n",
    "\n",
    "g, pvalue, dof, expctd = chi2_contingency(contingency, correction=False)\n",
    "\n",
    "print('P-value: %0.4f' %pvalue)"
   ]
  },
  {
   "cell_type": "markdown",
   "metadata": {},
   "source": [
    "It's worth noting that when we only have two variants, we could also use a Proportion Z-Test and get the same answers"
   ]
  },
  {
   "cell_type": "code",
   "execution_count": null,
   "metadata": {},
   "outputs": [],
   "source": [
    "from statsmodels.stats.proportion import proportions_ztest\n",
    "\n",
    "contingency = np.array([\n",
    "    [\n",
    "        ###, ###\n",
    "    ],\n",
    "    [\n",
    "        ###, ###\n",
    "    ]\n",
    "])\n",
    "\n",
    "zscore, pvalue = proportions_ztest(contingency[1, :], contingency.sum(axis=0), alternative='two-sided')\n",
    "print('P-value: %0.4f' %pvalue)"
   ]
  }
 ],
 "metadata": {
  "kernelspec": {
   "display_name": "Python 3",
   "language": "python",
   "name": "python3"
  },
  "language_info": {
   "codemirror_mode": {
    "name": "ipython",
    "version": 3
   },
   "file_extension": ".py",
   "mimetype": "text/x-python",
   "name": "python",
   "nbconvert_exporter": "python",
   "pygments_lexer": "ipython3",
   "version": "3.7.3"
  }
 },
 "nbformat": 4,
 "nbformat_minor": 2
}
